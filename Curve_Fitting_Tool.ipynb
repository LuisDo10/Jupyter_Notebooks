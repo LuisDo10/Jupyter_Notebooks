{
 "cells": [
  {
   "cell_type": "markdown",
   "metadata": {},
   "source": [
    "# Curve Fitting Tool (Univariate Functions)"
   ]
  },
  {
   "cell_type": "markdown",
   "metadata": {},
   "source": [
    "<strong>This Jupyter Notebook serves as a tool for obtaining the optimum parameters of a defined function to fit some input data. This tool is valid only for univariate functions.</strong>"
   ]
  },
  {
   "cell_type": "markdown",
   "metadata": {},
   "source": [
    "# 1. Install necessary libraries"
   ]
  },
  {
   "cell_type": "code",
   "execution_count": null,
   "metadata": {},
   "outputs": [],
   "source": [
    "import sys\n",
    "!conda install --yes --prefix {sys.prefix} ipywidgets=7.5.1"
   ]
  },
  {
   "cell_type": "code",
   "execution_count": null,
   "metadata": {},
   "outputs": [],
   "source": [
    "!conda install --yes --prefix {sys.prefix} numpy\n",
    "!conda install --yes --prefix {sys.prefix} pandas\n",
    "!conda install --yes --prefix {sys.prefix} matplotlib\n",
    "!conda install --yes --prefix {sys.prefix} scipy\n",
    "!conda install --yes --prefix {sys.prefix} xlrd\n",
    "!conda install --yes --prefix {sys.prefix} IPython"
   ]
  },
  {
   "cell_type": "code",
   "execution_count": null,
   "metadata": {},
   "outputs": [],
   "source": [
    "!jupyter nbextension enable --py widgetsnbextension --sys-prefix\n",
    "#!jupyter labextension install @jupyter-widgets/jupyterlab-manager\n",
    "%matplotlib inline"
   ]
  },
  {
   "cell_type": "code",
   "execution_count": null,
   "metadata": {
    "scrolled": true
   },
   "outputs": [],
   "source": [
    "import numpy as np\n",
    "import pandas as pd\n",
    "import matplotlib.pyplot as plt\n",
    "import scipy.optimize as opt\n",
    "import ipywidgets as widgets\n",
    "from IPython.display import display"
   ]
  },
  {
   "cell_type": "markdown",
   "metadata": {},
   "source": [
    "# 2. Import the data file"
   ]
  },
  {
   "cell_type": "markdown",
   "metadata": {},
   "source": [
    "<strong>Input the name and path of the file where your dataset is stored. The input file should be a .xlsx file with the data located in the first and second column [x, y].</strong>"
   ]
  },
  {
   "cell_type": "code",
   "execution_count": null,
   "metadata": {},
   "outputs": [],
   "source": [
    "file_name = 'xy_dataset_SCC.xlsx'"
   ]
  },
  {
   "cell_type": "markdown",
   "metadata": {},
   "source": [
    "**Input the name of the Excel sheet where the data is located. The code assumes the data headings are located in the first row.**"
   ]
  },
  {
   "cell_type": "code",
   "execution_count": null,
   "metadata": {},
   "outputs": [],
   "source": [
    "sheet_name = 'Sheet1'"
   ]
  },
  {
   "cell_type": "code",
   "execution_count": null,
   "metadata": {},
   "outputs": [],
   "source": [
    "df = pd.read_excel(str(file_name), sheet_name=sheet_name, header=0)"
   ]
  },
  {
   "cell_type": "markdown",
   "metadata": {},
   "source": [
    "# 3. Explore and prepare the data"
   ]
  },
  {
   "cell_type": "markdown",
   "metadata": {},
   "source": [
    "<strong>Visualize your data</strong>"
   ]
  },
  {
   "cell_type": "code",
   "execution_count": null,
   "metadata": {},
   "outputs": [],
   "source": [
    "print(df)"
   ]
  },
  {
   "cell_type": "markdown",
   "metadata": {},
   "source": [
    "<strong>Showing some data stats</strong>"
   ]
  },
  {
   "cell_type": "code",
   "execution_count": null,
   "metadata": {
    "scrolled": true
   },
   "outputs": [],
   "source": [
    "df.describe()"
   ]
  },
  {
   "cell_type": "markdown",
   "metadata": {},
   "source": [
    "<strong>Converting dataframe columns to list type</strong>"
   ]
  },
  {
   "cell_type": "code",
   "execution_count": null,
   "metadata": {},
   "outputs": [],
   "source": [
    "xdata = df[df.columns[0]].tolist()\n",
    "ydata = df[df.columns[1]].tolist()"
   ]
  },
  {
   "cell_type": "markdown",
   "metadata": {},
   "source": [
    "<strong>Converting lists to arrays</strong>"
   ]
  },
  {
   "cell_type": "code",
   "execution_count": null,
   "metadata": {},
   "outputs": [],
   "source": [
    "xdata = np.array(xdata)\n",
    "ydata = np.array(ydata)"
   ]
  },
  {
   "cell_type": "markdown",
   "metadata": {},
   "source": [
    "# 4. Select the function to fit the data"
   ]
  },
  {
   "cell_type": "markdown",
   "metadata": {},
   "source": [
    "<strong>This section allows you to choose the function that will be used to fit the data. If you want to change the default function just modify the python function statement below accordingly. Further predetermined functions will be added in the future.</strong>"
   ]
  },
  {
   "cell_type": "markdown",
   "metadata": {},
   "source": [
    "<strong>Linear Function</strong>\n",
    "$$f(x) = ax + b$$"
   ]
  },
  {
   "cell_type": "code",
   "execution_count": null,
   "metadata": {},
   "outputs": [],
   "source": [
    "def lin_func(x, a, b):\n",
    "    return a*x + b"
   ]
  },
  {
   "cell_type": "markdown",
   "metadata": {},
   "source": [
    "<strong>Eight Degree Polynomial</strong>\n",
    "$$f(x) = ax^8+bx^7+cx^6+dx^5+ex^4+fx^3+gx^2+hx^1+ix^0$$"
   ]
  },
  {
   "cell_type": "code",
   "execution_count": null,
   "metadata": {},
   "outputs": [],
   "source": [
    "def poly8_func(x, a, b, c, d, e, f, g, h, i):\n",
    "    return a*x**8 + b*x**7 + c*x**6 + d*x**5 + e*x**4 + f*x**3 + g*x**2 + h*x**1 + i*x**0"
   ]
  },
  {
   "cell_type": "markdown",
   "metadata": {},
   "source": [
    "<strong>Seventh Degree Polynomial</strong>\n",
    "$$f(x) = ax^7+bx^6+cx^5+dx^4+ex^3+fx^2+gx^1+hx^0$$"
   ]
  },
  {
   "cell_type": "code",
   "execution_count": null,
   "metadata": {},
   "outputs": [],
   "source": [
    "def poly7_func(x, a, b, c, d, e, f, g, h):\n",
    "    return a*x**7 + b*x**6 + c*x**5 + d*x**4 + e*x**3 + f*x**2 + g*x**1 + h*x**0"
   ]
  },
  {
   "cell_type": "markdown",
   "metadata": {},
   "source": [
    "<strong>Sixth Degree Polynomial</strong>\n",
    "$$f(x) = ax^6+bx^5+cx^4+dx^3+ex^2+fx^1+gx^0$$"
   ]
  },
  {
   "cell_type": "code",
   "execution_count": null,
   "metadata": {},
   "outputs": [],
   "source": [
    "def poly6_func(x, a, b, c, d, e, f, g):\n",
    "    return a*x**6 + b*x**5 + c*x**4 + d*x**3 + e*x**2 + f*x**1 + g*x**0"
   ]
  },
  {
   "cell_type": "markdown",
   "metadata": {},
   "source": [
    "<strong>Fifth Degree Polynomial</strong>\n",
    "$$f(x) = ax^5+bx^4+cx^3+dx^2+ex^1+fx^0$$"
   ]
  },
  {
   "cell_type": "code",
   "execution_count": null,
   "metadata": {},
   "outputs": [],
   "source": [
    "def poly5_func(x, a, b, c, d, e, f):\n",
    "    return a*x**5 + b*x**4 + c*x**3 + d*x**2 + e*x**1 + f*x**0"
   ]
  },
  {
   "cell_type": "markdown",
   "metadata": {},
   "source": [
    "<strong>Fourth Degree Polynomial</strong>\n",
    "$$f(x) = ax^4+bx^3+cx^2+dx^1+ex^0$$"
   ]
  },
  {
   "cell_type": "code",
   "execution_count": null,
   "metadata": {},
   "outputs": [],
   "source": [
    "def poly4_func(x, a, b, c, d, e):\n",
    "    return a*x**4 + b*x**3 + c*x**2 + d*x**1 + e*x**0"
   ]
  },
  {
   "cell_type": "markdown",
   "metadata": {},
   "source": [
    "<strong>Third Degree Polynomial</strong>\n",
    "$$f(x) = ax^3+bx^2+cx^1+dx^0$$"
   ]
  },
  {
   "cell_type": "code",
   "execution_count": null,
   "metadata": {},
   "outputs": [],
   "source": [
    "def poly3_func(x, a, b, c, d):\n",
    "    return a*x**3 + b*x**2 + c*x**1 + d*x**0"
   ]
  },
  {
   "cell_type": "markdown",
   "metadata": {},
   "source": [
    "<strong>Second Degree Polynomial</strong>\n",
    "$$f(x) = ax^2+bx^1+cx^0$$"
   ]
  },
  {
   "cell_type": "code",
   "execution_count": null,
   "metadata": {},
   "outputs": [],
   "source": [
    "def poly2_func(x, a, b, c):\n",
    "    return a*x**2 + b*x**1 + c*x**0"
   ]
  },
  {
   "cell_type": "markdown",
   "metadata": {},
   "source": [
    "<strong>Logarithmic Function</strong>\n",
    "$$f(x) = a + bln(x)$$"
   ]
  },
  {
   "cell_type": "code",
   "execution_count": null,
   "metadata": {},
   "outputs": [],
   "source": [
    "def log_func(x, a, b):\n",
    "    return a + b*np.log10(x)"
   ]
  },
  {
   "cell_type": "markdown",
   "metadata": {},
   "source": [
    "<strong>Exponential Function</strong>\n",
    "$$f(x) = ae^{bx}$$"
   ]
  },
  {
   "cell_type": "code",
   "execution_count": null,
   "metadata": {},
   "outputs": [],
   "source": [
    "def exp_func(x, a, b):\n",
    "    return a*np.exp(b*x)"
   ]
  },
  {
   "cell_type": "markdown",
   "metadata": {},
   "source": [
    "<strong>Exponential Function for REE</strong>\n",
    "$$f(t) = a(1-e^{-t/b})$$"
   ]
  },
  {
   "cell_type": "code",
   "execution_count": null,
   "metadata": {},
   "outputs": [],
   "source": [
    "def expree_func(x, a, b):\n",
    "    return a*(1-np.exp(-x/b))"
   ]
  },
  {
   "cell_type": "markdown",
   "metadata": {},
   "source": [
    "<strong>Gaussian Distribution</strong>\n",
    "$$f(x) = \\frac{1}{\\sigma\\sqrt{2\\pi}}e^{-\\frac{1}{2}\\left(\\frac{x-\\mu}{\\sigma}\\right)^{2}}$$"
   ]
  },
  {
   "cell_type": "code",
   "execution_count": null,
   "metadata": {},
   "outputs": [],
   "source": [
    "def gaussian_func(x, a, b):\n",
    "    return (1/(a*np.sqrt(2*np.pi)))*np.exp(-(x - b)/a)**2"
   ]
  },
  {
   "cell_type": "markdown",
   "metadata": {},
   "source": [
    "<strong>Fourier Series</strong>\n",
    "$$f(x) = \\frac{a_0}{2} + \\sum^{\\infty}_{k=1}a_kcos\\left(\\frac{2\\pi kx}{T}\\right) + \\sum^{\\infty}_{k=1}b_ksin\\left(\\frac{2\\pi kx}{T}\\right)$$"
   ]
  },
  {
   "cell_type": "code",
   "execution_count": null,
   "metadata": {},
   "outputs": [],
   "source": [
    "def func(x, w, a0, a1, a2, a3, b1, b2, b3):\n",
    "    return a0 + a1*np.cos(w*x) + a2*np.cos(2*w*x) + a3*np.cos(3*w*x) + b1*np.sin(w*x) + b2*np.sin(2*w*x) + b3*np.sin(3*w*x)"
   ]
  },
  {
   "cell_type": "code",
   "execution_count": null,
   "metadata": {},
   "outputs": [],
   "source": [
    "function = widgets.Dropdown(\n",
    "    options=['Linear',\n",
    "             'Polynomial',\n",
    "             'Logarithmic',\n",
    "             'Exponential',\n",
    "             'REE Custom Function',\n",
    "             'Gaussian'],\n",
    "    value='Polynomial',\n",
    "    description='Function:',\n",
    "    disabled=False)\n",
    "display(function)"
   ]
  },
  {
   "cell_type": "code",
   "execution_count": null,
   "metadata": {},
   "outputs": [],
   "source": [
    "if function.value=='Polynomial':\n",
    "    func=poly8_func\n",
    "    init_vals = None\n",
    "elif function.value=='Linear':\n",
    "    func=lin_func\n",
    "    init_vals = None\n",
    "elif function.value=='Logarithmic':\n",
    "    func=log_func\n",
    "    init_vals = None\n",
    "elif function.value=='Exponential':\n",
    "    func=exp_func\n",
    "    init_vals = None\n",
    "elif function.value=='REE Custom Function':\n",
    "    func=expree_func\n",
    "    init_vals = None\n",
    "elif function.value=='Gaussian':\n",
    "    func=gaussian_func\n",
    "    init_vals = None"
   ]
  },
  {
   "cell_type": "markdown",
   "metadata": {},
   "source": [
    "<strong>Select the degree of the polynomial to use. If you didn't select a polynomial function to fit the data you can skip this step.</strong>\n",
    "\n",
    "<strong>At this moment, only polynomials of degree 2 to 8 can be used.</strong>"
   ]
  },
  {
   "cell_type": "code",
   "execution_count": null,
   "metadata": {},
   "outputs": [],
   "source": [
    "print(function.value)\n",
    "\n",
    "if function.value=='Polynomial':\n",
    "    \n",
    "    deg = widgets.IntText(value=8,\n",
    "                          description='Degree:',\n",
    "                          disabled=False)\n",
    "    display(deg) "
   ]
  },
  {
   "cell_type": "code",
   "execution_count": null,
   "metadata": {},
   "outputs": [],
   "source": [
    "if function.value=='Polynomial':\n",
    "    if deg.value==8:\n",
    "        func=poly8_func\n",
    "        init_vals = None\n",
    "    elif deg.value==7:\n",
    "        func=poly7_func\n",
    "        init_vals = None\n",
    "    elif deg.value==6:\n",
    "        func=poly6_func\n",
    "        init_vals = None\n",
    "    elif deg.value==5:\n",
    "        func=poly5_func\n",
    "        init_vals = None\n",
    "    elif deg.value==4:\n",
    "        func=poly4_func\n",
    "        init_vals = None\n",
    "    elif deg.value==3:\n",
    "        func=poly3_func\n",
    "        init_vals = None\n",
    "    elif deg.value==2:\n",
    "        func=poly2_func\n",
    "        init_vals = None"
   ]
  },
  {
   "cell_type": "code",
   "execution_count": null,
   "metadata": {},
   "outputs": [],
   "source": [
    "arg_list_comp = ['a', 'b', 'c', 'd', 'e', 'f', 'g', 'h', 'i', 'j', 'k',\n",
    "                 'l', 'm', 'n', 'o', 'p', 'q', 'r', 's', 't', 'u', 'v',\n",
    "                 'w', 'x', 'y', 'z']\n",
    "\n",
    "arg_list = arg_list_comp[0:deg.value+1]"
   ]
  },
  {
   "cell_type": "code",
   "execution_count": null,
   "metadata": {},
   "outputs": [],
   "source": [
    "print(deg.value)\n",
    "print(type(deg.value))"
   ]
  },
  {
   "cell_type": "code",
   "execution_count": null,
   "metadata": {},
   "outputs": [],
   "source": [
    "print(func)"
   ]
  },
  {
   "cell_type": "markdown",
   "metadata": {},
   "source": [
    "# 5. Method used to find the optimum coefficients"
   ]
  },
  {
   "cell_type": "markdown",
   "metadata": {},
   "source": [
    "## Least Squares Minimization"
   ]
  },
  {
   "cell_type": "markdown",
   "metadata": {},
   "source": [
    "<strong>For the algorithm to work properly initial values should be in the order of magnitude of the max 'x' and 'y' values respectively.</strong>"
   ]
  },
  {
   "cell_type": "code",
   "execution_count": null,
   "metadata": {},
   "outputs": [],
   "source": [
    "#init_vals = [1, 1, 1, 1, 1, 1, 1, 1, 1]"
   ]
  },
  {
   "cell_type": "markdown",
   "metadata": {},
   "source": [
    "<strong>\n",
    "    \n",
    "The default algorithm to perform the least-squares minimisation is the Levenberg-Marquardt algorithm, this algorithm doesn’t handle bounds and sparse Jacobians. Usually the most efficient method for small unconstrained problems.\n",
    "\n",
    "For large sparsed bounded problems, the trf : Trust Region Reflective algorithm is more suitable and generally more robust method.\n",
    "\n",
    "‘dogbox’ : dogleg algorithm with rectangular trust regions, typical use case is small problems with bounds. Not recommended for problems with rank-deficient Jacobian.\n",
    "    \n",
    "The method ‘lm’ won’t work when the number of observations is less than the number of variables, use ‘trf’ or ‘dogbox’ in this case.\n",
    "\n",
    "To choose the method more suitable for your problem just add method='trf', 'dogbox' or 'lm' after the last argument in the below line. If no method is specified, the Levenberg-Marquardt is going to be used.\n",
    "    \n",
    "To select the method, just choose from the dropdown list below.\n",
    "\n",
    "</strong>"
   ]
  },
  {
   "cell_type": "code",
   "execution_count": null,
   "metadata": {},
   "outputs": [],
   "source": [
    "algorithm = widgets.Dropdown(\n",
    "    options=['Levenberg-Marquardt',\n",
    "             'Trust Region Reflective',\n",
    "             'Dogleg'],\n",
    "    value='Levenberg-Marquardt',\n",
    "    description='Algorithm:',\n",
    "    disabled=False)\n",
    "display(algorithm)"
   ]
  },
  {
   "cell_type": "code",
   "execution_count": null,
   "metadata": {},
   "outputs": [],
   "source": [
    "if algorithm.value=='Levenberg-Marquardt':\n",
    "    method='lm'\n",
    "elif algorithm.value=='Trust Region Reflective':\n",
    "    method='trf'\n",
    "elif algorithm.value=='Dogleg':\n",
    "    method='dogbox'"
   ]
  },
  {
   "cell_type": "code",
   "execution_count": null,
   "metadata": {},
   "outputs": [],
   "source": [
    "popt, pvar = opt.curve_fit(func, xdata, ydata,  p0=init_vals, method=method)"
   ]
  },
  {
   "cell_type": "markdown",
   "metadata": {},
   "source": [
    "# 6. Results"
   ]
  },
  {
   "cell_type": "code",
   "execution_count": null,
   "metadata": {},
   "outputs": [],
   "source": [
    "np.set_printoptions(formatter={'float': '{: 0.15f}'.format})\n",
    "print ('Optimum Model Coefficients:')\n",
    "print()\n",
    "i = 0\n",
    "for c in popt:\n",
    "    if c > 0:\n",
    "        print('%s =  %s' % (arg_list[i], c))\n",
    "        i = i + 1\n",
    "    else:\n",
    "        print('%s = %s' % (arg_list[i], c))\n",
    "        i = i + 1"
   ]
  },
  {
   "cell_type": "code",
   "execution_count": null,
   "metadata": {},
   "outputs": [],
   "source": [
    "data_fitted = func(xdata, *popt)\n",
    "xarray = np.linspace(0, max(xdata), 800)"
   ]
  },
  {
   "cell_type": "markdown",
   "metadata": {},
   "source": [
    "<strong> RMS error of fit </strong>"
   ]
  },
  {
   "cell_type": "code",
   "execution_count": null,
   "metadata": {},
   "outputs": [],
   "source": [
    "RMSE = np.sqrt(np.mean((data_fitted - ydata) ** 2))\n",
    "print ('RMS Error: ', RMSE)"
   ]
  },
  {
   "cell_type": "markdown",
   "metadata": {},
   "source": [
    "**Visualize the results**"
   ]
  },
  {
   "cell_type": "code",
   "execution_count": null,
   "metadata": {},
   "outputs": [],
   "source": [
    "plt.figure(figsize=(9, 6), dpi=200)\n",
    "plt.scatter(xdata, ydata, color='#e74c3c', label='Test Data')\n",
    "plt.plot(xarray, func(xarray, *popt), color='#3498db', label='Fitted Data')\n",
    "plt.xlabel('x')\n",
    "plt.ylabel('y')\n",
    "plt.grid(True)\n",
    "plt.legend()\n",
    "plt.show()"
   ]
  },
  {
   "cell_type": "code",
   "execution_count": null,
   "metadata": {},
   "outputs": [],
   "source": [
    "print('xdata'+11*' '+'ydata'+11*' '+'data_fitted'+10*' '+'RMSE')\n",
    "for i in range(len(xdata)):\n",
    "    print((('%5.4f'+10*' '+'%5.4f'+10*' '+'%5.4f'+15*' '+'%5.10f') % (xdata[i], ydata[i], data_fitted[i], np.sqrt(np.mean((data_fitted[i] - ydata[i]) ** 2)))))"
   ]
  },
  {
   "cell_type": "code",
   "execution_count": null,
   "metadata": {},
   "outputs": [],
   "source": []
  },
  {
   "cell_type": "code",
   "execution_count": null,
   "metadata": {},
   "outputs": [],
   "source": []
  },
  {
   "cell_type": "code",
   "execution_count": null,
   "metadata": {},
   "outputs": [],
   "source": []
  },
  {
   "cell_type": "code",
   "execution_count": null,
   "metadata": {},
   "outputs": [],
   "source": []
  },
  {
   "cell_type": "code",
   "execution_count": null,
   "metadata": {},
   "outputs": [],
   "source": []
  }
 ],
 "metadata": {
  "kernelspec": {
   "display_name": "Python 3",
   "language": "python",
   "name": "python3"
  },
  "language_info": {
   "codemirror_mode": {
    "name": "ipython",
    "version": 3
   },
   "file_extension": ".py",
   "mimetype": "text/x-python",
   "name": "python",
   "nbconvert_exporter": "python",
   "pygments_lexer": "ipython3",
   "version": "3.7.4"
  }
 },
 "nbformat": 4,
 "nbformat_minor": 2
}
