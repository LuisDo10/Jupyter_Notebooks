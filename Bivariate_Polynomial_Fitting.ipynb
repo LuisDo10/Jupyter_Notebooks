{
 "cells": [
  {
   "cell_type": "markdown",
   "metadata": {},
   "source": [
    "# Curve Fitting Tool (Bivariate Functions)"
   ]
  },
  {
   "cell_type": "markdown",
   "metadata": {},
   "source": [
    "<strong>This Jupyter Notebook serves as a tool for obtaining the optimum parameters of a defined bivariate function to fit some input data. This tool is valid only for bivariate functions.</strong>"
   ]
  },
  {
   "cell_type": "markdown",
   "metadata": {},
   "source": [
    "# 1. Install necessary libraries and import required modules"
   ]
  },
  {
   "cell_type": "code",
   "execution_count": 1,
   "metadata": {},
   "outputs": [],
   "source": [
    "#import sys\n",
    "#!conda install --yes --prefix {sys.prefix} ipywidgets=7.5.1"
   ]
  },
  {
   "cell_type": "code",
   "execution_count": 2,
   "metadata": {},
   "outputs": [],
   "source": [
    "#!conda install --yes --prefix {sys.prefix} numpy\n",
    "#!conda install --yes --prefix {sys.prefix} pandas\n",
    "#!conda install --yes --prefix {sys.prefix} matplotlib\n",
    "#!conda install --yes --prefix {sys.prefix} scipy\n",
    "#!conda install --yes --prefix {sys.prefix} xlrd\n",
    "#!conda install --yes --prefix {sys.prefix} IPython"
   ]
  },
  {
   "cell_type": "code",
   "execution_count": 65,
   "metadata": {},
   "outputs": [],
   "source": [
    "#!jupyter nbextension enable --py widgetsnbextension --sys-prefix\n",
    "#!jupyter labextension install @jupyter-widgets/jupyterlab-manager\n",
    "%matplotlib inline"
   ]
  },
  {
   "cell_type": "code",
   "execution_count": 55,
   "metadata": {},
   "outputs": [],
   "source": [
    "import numpy as np\n",
    "import pandas as pd\n",
    "import matplotlib.pyplot as plt\n",
    "import scipy.optimize as opt\n",
    "import ipywidgets as widgets\n",
    "from IPython.display import display\n",
    "from mpl_toolkits.mplot3d import Axes3D"
   ]
  },
  {
   "cell_type": "markdown",
   "metadata": {},
   "source": [
    "# 2. Import the data file"
   ]
  },
  {
   "cell_type": "markdown",
   "metadata": {},
   "source": [
    "<strong>Input the name and path of the file where your dataset is stored. The input file should be a .xlsx file with the data located in the first, second and third column in the form [x, y, z]. The data for each curve related to the family of curves should be appended at the end of the previous curve for each constant value of y, being this variable the varying parameter in the family of curves. </strong>"
   ]
  },
  {
   "cell_type": "code",
   "execution_count": 57,
   "metadata": {},
   "outputs": [],
   "source": [
    "file_name = 'xy_dataset_SCC_2.xlsx'"
   ]
  },
  {
   "cell_type": "markdown",
   "metadata": {},
   "source": [
    "**Input the name of the Excel sheet where the data is located. The code assumes the data headings are located in the first row.**"
   ]
  },
  {
   "cell_type": "code",
   "execution_count": 58,
   "metadata": {},
   "outputs": [],
   "source": [
    "sheet_name = 'Sheet1'"
   ]
  },
  {
   "cell_type": "code",
   "execution_count": 59,
   "metadata": {},
   "outputs": [],
   "source": [
    "df = pd.read_excel(str(file_name), sheet_name=sheet_name, header=0)"
   ]
  },
  {
   "cell_type": "markdown",
   "metadata": {},
   "source": [
    "# 3. Explore and prepare the data"
   ]
  },
  {
   "cell_type": "code",
   "execution_count": 61,
   "metadata": {},
   "outputs": [
    {
     "data": {
      "text/html": [
       "<div>\n",
       "<style scoped>\n",
       "    .dataframe tbody tr th:only-of-type {\n",
       "        vertical-align: middle;\n",
       "    }\n",
       "\n",
       "    .dataframe tbody tr th {\n",
       "        vertical-align: top;\n",
       "    }\n",
       "\n",
       "    .dataframe thead th {\n",
       "        text-align: right;\n",
       "    }\n",
       "</style>\n",
       "<table border=\"1\" class=\"dataframe\">\n",
       "  <thead>\n",
       "    <tr style=\"text-align: right;\">\n",
       "      <th></th>\n",
       "      <th>x</th>\n",
       "      <th>y</th>\n",
       "      <th>z</th>\n",
       "    </tr>\n",
       "  </thead>\n",
       "  <tbody>\n",
       "    <tr>\n",
       "      <td>0</td>\n",
       "      <td>0.799908</td>\n",
       "      <td>288.15</td>\n",
       "      <td>-2.197141</td>\n",
       "    </tr>\n",
       "    <tr>\n",
       "      <td>1</td>\n",
       "      <td>0.802391</td>\n",
       "      <td>288.15</td>\n",
       "      <td>-2.190013</td>\n",
       "    </tr>\n",
       "    <tr>\n",
       "      <td>2</td>\n",
       "      <td>0.806294</td>\n",
       "      <td>288.15</td>\n",
       "      <td>-2.182881</td>\n",
       "    </tr>\n",
       "    <tr>\n",
       "      <td>3</td>\n",
       "      <td>0.810196</td>\n",
       "      <td>288.15</td>\n",
       "      <td>-2.175524</td>\n",
       "    </tr>\n",
       "    <tr>\n",
       "      <td>4</td>\n",
       "      <td>0.814098</td>\n",
       "      <td>288.15</td>\n",
       "      <td>-2.168584</td>\n",
       "    </tr>\n",
       "    <tr>\n",
       "      <td>...</td>\n",
       "      <td>...</td>\n",
       "      <td>...</td>\n",
       "      <td>...</td>\n",
       "    </tr>\n",
       "    <tr>\n",
       "      <td>716</td>\n",
       "      <td>1.184466</td>\n",
       "      <td>300.15</td>\n",
       "      <td>-1.065920</td>\n",
       "    </tr>\n",
       "    <tr>\n",
       "      <td>717</td>\n",
       "      <td>1.188368</td>\n",
       "      <td>300.15</td>\n",
       "      <td>-1.060377</td>\n",
       "    </tr>\n",
       "    <tr>\n",
       "      <td>718</td>\n",
       "      <td>1.192270</td>\n",
       "      <td>300.15</td>\n",
       "      <td>-1.054895</td>\n",
       "    </tr>\n",
       "    <tr>\n",
       "      <td>719</td>\n",
       "      <td>1.196173</td>\n",
       "      <td>300.15</td>\n",
       "      <td>-1.049412</td>\n",
       "    </tr>\n",
       "    <tr>\n",
       "      <td>720</td>\n",
       "      <td>1.199188</td>\n",
       "      <td>300.15</td>\n",
       "      <td>-1.045281</td>\n",
       "    </tr>\n",
       "  </tbody>\n",
       "</table>\n",
       "<p>721 rows × 3 columns</p>\n",
       "</div>"
      ],
      "text/plain": [
       "            x       y         z\n",
       "0    0.799908  288.15 -2.197141\n",
       "1    0.802391  288.15 -2.190013\n",
       "2    0.806294  288.15 -2.182881\n",
       "3    0.810196  288.15 -2.175524\n",
       "4    0.814098  288.15 -2.168584\n",
       "..        ...     ...       ...\n",
       "716  1.184466  300.15 -1.065920\n",
       "717  1.188368  300.15 -1.060377\n",
       "718  1.192270  300.15 -1.054895\n",
       "719  1.196173  300.15 -1.049412\n",
       "720  1.199188  300.15 -1.045281\n",
       "\n",
       "[721 rows x 3 columns]"
      ]
     },
     "execution_count": 61,
     "metadata": {},
     "output_type": "execute_result"
    }
   ],
   "source": [
    "df.head(15)\n",
    "df.drop([\"Unnamed: 3\"], axis=1)"
   ]
  },
  {
   "cell_type": "markdown",
   "metadata": {},
   "source": [
    "<strong>Showing some data stats and object info.</strong>"
   ]
  },
  {
   "cell_type": "code",
   "execution_count": 27,
   "metadata": {},
   "outputs": [
    {
     "data": {
      "text/html": [
       "<div>\n",
       "<style scoped>\n",
       "    .dataframe tbody tr th:only-of-type {\n",
       "        vertical-align: middle;\n",
       "    }\n",
       "\n",
       "    .dataframe tbody tr th {\n",
       "        vertical-align: top;\n",
       "    }\n",
       "\n",
       "    .dataframe thead th {\n",
       "        text-align: right;\n",
       "    }\n",
       "</style>\n",
       "<table border=\"1\" class=\"dataframe\">\n",
       "  <thead>\n",
       "    <tr style=\"text-align: right;\">\n",
       "      <th></th>\n",
       "      <th>x</th>\n",
       "      <th>y</th>\n",
       "      <th>z</th>\n",
       "      <th>Unnamed: 3</th>\n",
       "    </tr>\n",
       "  </thead>\n",
       "  <tbody>\n",
       "    <tr>\n",
       "      <td>count</td>\n",
       "      <td>721.000000</td>\n",
       "      <td>721.000000</td>\n",
       "      <td>721.000000</td>\n",
       "      <td>721.000000</td>\n",
       "    </tr>\n",
       "    <tr>\n",
       "      <td>mean</td>\n",
       "      <td>1.000700</td>\n",
       "      <td>294.144452</td>\n",
       "      <td>-1.609785</td>\n",
       "      <td>0.206398</td>\n",
       "    </tr>\n",
       "    <tr>\n",
       "      <td>std</td>\n",
       "      <td>0.116166</td>\n",
       "      <td>4.008321</td>\n",
       "      <td>0.253219</td>\n",
       "      <td>0.052306</td>\n",
       "    </tr>\n",
       "    <tr>\n",
       "      <td>min</td>\n",
       "      <td>0.799908</td>\n",
       "      <td>288.150000</td>\n",
       "      <td>-2.197141</td>\n",
       "      <td>0.111120</td>\n",
       "    </tr>\n",
       "    <tr>\n",
       "      <td>25%</td>\n",
       "      <td>0.899950</td>\n",
       "      <td>290.150000</td>\n",
       "      <td>-1.790611</td>\n",
       "      <td>0.166858</td>\n",
       "    </tr>\n",
       "    <tr>\n",
       "      <td>50%</td>\n",
       "      <td>1.000701</td>\n",
       "      <td>294.150000</td>\n",
       "      <td>-1.607179</td>\n",
       "      <td>0.200452</td>\n",
       "    </tr>\n",
       "    <tr>\n",
       "      <td>75%</td>\n",
       "      <td>1.101807</td>\n",
       "      <td>298.150000</td>\n",
       "      <td>-1.427344</td>\n",
       "      <td>0.239945</td>\n",
       "    </tr>\n",
       "    <tr>\n",
       "      <td>max</td>\n",
       "      <td>1.199417</td>\n",
       "      <td>300.150000</td>\n",
       "      <td>-1.045281</td>\n",
       "      <td>0.351593</td>\n",
       "    </tr>\n",
       "  </tbody>\n",
       "</table>\n",
       "</div>"
      ],
      "text/plain": [
       "                x           y           z  Unnamed: 3\n",
       "count  721.000000  721.000000  721.000000  721.000000\n",
       "mean     1.000700  294.144452   -1.609785    0.206398\n",
       "std      0.116166    4.008321    0.253219    0.052306\n",
       "min      0.799908  288.150000   -2.197141    0.111120\n",
       "25%      0.899950  290.150000   -1.790611    0.166858\n",
       "50%      1.000701  294.150000   -1.607179    0.200452\n",
       "75%      1.101807  298.150000   -1.427344    0.239945\n",
       "max      1.199417  300.150000   -1.045281    0.351593"
      ]
     },
     "execution_count": 27,
     "metadata": {},
     "output_type": "execute_result"
    }
   ],
   "source": [
    "df.describe()"
   ]
  },
  {
   "cell_type": "code",
   "execution_count": 28,
   "metadata": {},
   "outputs": [
    {
     "name": "stdout",
     "output_type": "stream",
     "text": [
      "<class 'pandas.core.frame.DataFrame'>\n",
      "RangeIndex: 721 entries, 0 to 720\n",
      "Data columns (total 4 columns):\n",
      "x             721 non-null float64\n",
      "y             721 non-null float64\n",
      "z             721 non-null float64\n",
      "Unnamed: 3    721 non-null float64\n",
      "dtypes: float64(4)\n",
      "memory usage: 22.7 KB\n"
     ]
    }
   ],
   "source": [
    "df.info()"
   ]
  },
  {
   "cell_type": "markdown",
   "metadata": {},
   "source": [
    "# 4. Construct the bivariate polynomial of interest"
   ]
  },
  {
   "cell_type": "markdown",
   "metadata": {},
   "source": [
    "<strong>Specify order of the bivariate polynomial. As an example, if you specify an order of 2, the output polynomial will be of the form: $A_{00}x^0y^0+A_{01}x^1y^0+A_{02}x^2y^0+A_{10}x^0y^1+A_{11}x^1y^1+A_{12}x^2y^1+A_{20}x^0y^2+A_{21}x^1y^2+A_{22}x^2y^2$. On the other hand, if the bivariate polynomial of interest does not have this general form, you can specify it below as a function.</strong>"
   ]
  },
  {
   "cell_type": "code",
   "execution_count": 62,
   "metadata": {},
   "outputs": [],
   "source": [
    "n = 2"
   ]
  },
  {
   "cell_type": "markdown",
   "metadata": {},
   "source": [
    "<strong> Building and printing the bivariate polynomial </strong>"
   ]
  },
  {
   "cell_type": "code",
   "execution_count": 63,
   "metadata": {},
   "outputs": [
    {
     "name": "stdout",
     "output_type": "stream",
     "text": [
      "A00*x**0*y**0+A01*x**1*y**0+A02*x**2*y**0+A10*x**0*y**1+A11*x**1*y**1+A12*x**2*y**1+A20*x**0*y**2+A21*x**1*y**2+A22*x**2*y**2\n"
     ]
    }
   ],
   "source": [
    "xy = []\n",
    "A = []\n",
    "for j in range(n + 1):\n",
    "    for i in range(n + 1):\n",
    "        A.append(\"A%i%i\" % (j,i))\n",
    "        xy.append(\"A%i%i*\" % (j,i) + \"x**%i*y**%i\" % (i,j))\n",
    "        \n",
    "print('+'.join(xy))"
   ]
  },
  {
   "cell_type": "markdown",
   "metadata": {},
   "source": [
    "<strong> Converting dataframe columns to lists </strong>"
   ]
  },
  {
   "cell_type": "code",
   "execution_count": 70,
   "metadata": {},
   "outputs": [],
   "source": [
    "xdata = df[df.columns[0]].tolist()\n",
    "ydata = df[df.columns[1]].tolist()\n",
    "zdata = df[df.columns[2]].tolist()"
   ]
  },
  {
   "cell_type": "markdown",
   "metadata": {},
   "source": [
    "<strong> Converting lists to arrays </strong>"
   ]
  },
  {
   "cell_type": "code",
   "execution_count": 32,
   "metadata": {},
   "outputs": [],
   "source": [
    "x = np.array(xdata)\n",
    "y = np.array(ydata)\n",
    "z = np.array(zdata)"
   ]
  },
  {
   "cell_type": "markdown",
   "metadata": {},
   "source": [
    "<strong> Defining a function for the bivariate polynomial of interest </strong>"
   ]
  },
  {
   "cell_type": "code",
   "execution_count": 33,
   "metadata": {},
   "outputs": [],
   "source": [
    "def function(data, A1, A2, A3, A4, B1, B2, B3, B4):\n",
    "\n",
    "    x = data[0]\n",
    "    y = data[1]\n",
    "\n",
    "    return A1 + A2 * y*x + A3*x + A4*y + B1*(y**2) + B2*(x**2) + B3*y*(x**2) + B4* (y**2)*x"
   ]
  },
  {
   "cell_type": "code",
   "execution_count": 71,
   "metadata": {},
   "outputs": [],
   "source": [
    "arg_list = ['A1', 'A2', 'A3', 'A4', 'B1', 'B2', 'B3', 'B4']"
   ]
  },
  {
   "cell_type": "markdown",
   "metadata": {},
   "source": [
    "# 5. Nonlinear Least Squares Method to fit a function f(x, y), to data z"
   ]
  },
  {
   "cell_type": "markdown",
   "metadata": {},
   "source": [
    "## Defining the initial values"
   ]
  },
  {
   "cell_type": "markdown",
   "metadata": {},
   "source": [
    "<strong>For the algorithm to work properly initial values should be in the order of magnitude of the max 'x' and 'y' values respectively.</strong>"
   ]
  },
  {
   "cell_type": "code",
   "execution_count": 34,
   "metadata": {},
   "outputs": [],
   "source": [
    "init_vals = [28.232252,-92.390491,-625.7959,207.2301,70.251642,-22.516388,-0.047796308,1.2844571]"
   ]
  },
  {
   "cell_type": "markdown",
   "metadata": {},
   "source": [
    "### Parameters"
   ]
  },
  {
   "cell_type": "markdown",
   "metadata": {},
   "source": [
    "<strong> f: callable. The model function, f(x, …). It must take the independent variable as the first argument and the parameters to fit as separate remaining arguments. </strong>"
   ]
  },
  {
   "cell_type": "markdown",
   "metadata": {},
   "source": [
    "<strong> xdata: array_like or object. \n",
    "* The independent variable where the data is measured. Should usually be an M-length sequence or an (k,M)-shaped array for functions with k predictors, but can actually be any object. </strong>"
   ]
  },
  {
   "cell_type": "markdown",
   "metadata": {},
   "source": [
    "<strong> ydata: array_like.\n",
    "* The dependent data, a length M array - nominally f(xdata, ...).</strong>"
   ]
  },
  {
   "cell_type": "markdown",
   "metadata": {},
   "source": [
    "<strong>p0: array_like, optional. \n",
    "* Initial guess for the parameters (length N). If None, then the initial values will all be 1 (if the number of parameters for the function can be determined using introspection, otherwise a ValueError is raised).</strong>"
   ]
  },
  {
   "cell_type": "markdown",
   "metadata": {},
   "source": [
    "<strong> sigma: None or M-length sequence or MxM array, optional. Determines the uncertainty in ydata. If we define residuals as r = ydata - f(xdata, *popt), then the interpretation of sigma depends on its number of dimensions:\n",
    "    \n",
    "* A 1-D sigma should contain values of standard deviations of errors in ydata. In this case, the optimized function is chisq = sum((r / sigma) ** 2).\n",
    "    \n",
    "* A 2-D sigma should contain the covariance matrix of errors in ydata. In this case, the optimized function is chisq = r.T @ inv(sigma) @ r.\n",
    "    \n",
    "None (default) is equivalent of 1-D sigma filled with ones.</strong>"
   ]
  },
  {
   "cell_type": "markdown",
   "metadata": {},
   "source": [
    "<strong>absolute_sigma: bool, optional.\n",
    "    \n",
    "* If True, sigma is used in an absolute sense and the estimated parameter covariance pcov reflects these absolute values.\n",
    "\n",
    "* If False (default), only the relative magnitudes of the sigma values matter. The returned parameter covariance matrix pcov is based on scaling sigma by a constant factor. This constant is set by demanding that the reduced chisq for the optimal parameters popt when using the scaled sigma equals unity. In other words, sigma is scaled to match the sample variance of the residuals after the fit. Default is False. Mathematically, pcov(absolute_sigma=False) = pcov(absolute_sigma=True) * chisq(popt)/(M-N)</strong>"
   ]
  },
  {
   "cell_type": "markdown",
   "metadata": {},
   "source": [
    "<strong>check_finite: bool, optional \n",
    "* If True, check that the input arrays do not contain nans of infs, and raise a ValueError if they do. Setting this parameter to False may silently produce nonsensical results if the input arrays do contain nans. Default is True.\n",
    "</strong>"
   ]
  },
  {
   "cell_type": "markdown",
   "metadata": {},
   "source": [
    "<strong>bounds: 2-tuple of array_like, optional \n",
    "* Lower and upper bounds on parameters. Defaults to no bounds. Each element of the tuple must be either an array with the length equal to the number of parameters, or a scalar (in which case the bound is taken to be the same for all parameters). Use np.inf with an appropriate sign to disable bounds on all or some parameters.\n",
    "\n",
    "</strong>"
   ]
  },
  {
   "cell_type": "markdown",
   "metadata": {},
   "source": [
    "<strong>method: {‘lm’, ‘trf’, ‘dogbox’}, optional \n",
    "* Method to use for optimization. See least_squares for more details. Default is ‘lm’ for unconstrained problems and ‘trf’ if bounds are provided. The method ‘lm’ won’t work when the number of observations is less than the number of variables, use ‘trf’ or ‘dogbox’ in this case.\n",
    "</strong>"
   ]
  },
  {
   "cell_type": "markdown",
   "metadata": {},
   "source": [
    "<strong>jac: callable, string or None, optional \n",
    "* Function with signature jac(x, ...) which computes the Jacobian matrix of the model function with respect to parameters as a dense array_like structure. It will be scaled according to provided sigma. If None (default), the Jacobian will be estimated numerically. String keywords for ‘trf’ and ‘dogbox’ methods can be used to select a finite difference scheme, see least_squares.</strong>"
   ]
  },
  {
   "cell_type": "markdown",
   "metadata": {},
   "source": [
    "<strong>kwargs\n",
    "* Keyword arguments passed to leastsq for method='lm' or least_squares otherwise.\n",
    "</strong>"
   ]
  },
  {
   "cell_type": "markdown",
   "metadata": {},
   "source": [
    "### Returns"
   ]
  },
  {
   "cell_type": "markdown",
   "metadata": {},
   "source": [
    "<strong>popt: array \n",
    "* Optimal values for the parameters so that the sum of the squared residuals of f(xdata, *popt) - ydata is minimized.\n",
    "</strong>"
   ]
  },
  {
   "cell_type": "markdown",
   "metadata": {},
   "source": [
    "<strong>pcov: 2-D array \n",
    "* The estimated covariance of popt. The diagonals provide the variance of the parameter estimate. To compute one standard deviation errors on the parameters use perr = np.sqrt(np.diag(pcov)). How the sigma parameter affects the estimated covariance depends on absolute_sigma argument, as described above.\n",
    "* If the Jacobian matrix at the solution doesn’t have a full rank, then ‘lm’ method returns a matrix filled with np.inf, on the other hand ‘trf’ and ‘dogbox’ methods use Moore-Penrose pseudoinverse to compute the covariance matrix.\n",
    "</strong>"
   ]
  },
  {
   "cell_type": "markdown",
   "metadata": {},
   "source": [
    "### Raises"
   ]
  },
  {
   "cell_type": "markdown",
   "metadata": {},
   "source": [
    "<strong>ValueError\n",
    "* if either ydata or xdata contain NaNs, or if incompatible options are used.\n",
    "\n",
    "</strong>"
   ]
  },
  {
   "cell_type": "markdown",
   "metadata": {},
   "source": [
    "<strong>RuntimeError\n",
    "* if the least-squares minimization fails.\n",
    "\n",
    "</strong>"
   ]
  },
  {
   "cell_type": "markdown",
   "metadata": {},
   "source": [
    "<strong>OptimizeWarning\n",
    "* if covariance of the parameters can not be estimated.\n",
    "\n",
    "</strong>"
   ]
  },
  {
   "cell_type": "markdown",
   "metadata": {},
   "source": [
    "<strong>\n",
    "With method='lm', the algorithm uses the Levenberg-Marquardt algorithm through leastsq. Note that this algorithm can only deal with unconstrained problems.\n",
    "\n",
    "    \n",
    "Box constraints can be handled by methods ‘trf’ and ‘dogbox’. Refer to the docstring of least_squares for more information.\n",
    "</strong>"
   ]
  },
  {
   "cell_type": "markdown",
   "metadata": {},
   "source": [
    "## Obtain optimum parameters for fitting the surface. "
   ]
  },
  {
   "cell_type": "code",
   "execution_count": 72,
   "metadata": {},
   "outputs": [],
   "source": [
    "parameters, covariance = opt.curve_fit(function, [x, y], z, init_vals)"
   ]
  },
  {
   "cell_type": "markdown",
   "metadata": {},
   "source": [
    "# 6. Print and visualise the results"
   ]
  },
  {
   "cell_type": "markdown",
   "metadata": {},
   "source": [
    "<strong>Print the optimum coefficients for the model</strong>"
   ]
  },
  {
   "cell_type": "code",
   "execution_count": 73,
   "metadata": {},
   "outputs": [
    {
     "name": "stdout",
     "output_type": "stream",
     "text": [
      "Optimum Model Coefficients:\n",
      "\n",
      "A1 =  24.75704815235068\n",
      "A2 =  0.23273531633208136\n",
      "A3 = -32.76573258465873\n",
      "A4 = -0.23362400835020544\n",
      "B1 =  0.00046864551107785447\n",
      "B2 =  0.6870952716293953\n",
      "B3 = -0.0029985550642339437\n",
      "B4 = -0.0003894109597573806\n"
     ]
    }
   ],
   "source": [
    "np.set_printoptions(formatter={'float': '{: 0.15f}'.format})\n",
    "print ('Optimum Model Coefficients:')\n",
    "print()\n",
    "i = 0\n",
    "for c in parameters:\n",
    "    if c > 0:\n",
    "        print('%s =  %s' % (arg_list[i], c))\n",
    "        i = i + 1\n",
    "    else:\n",
    "        print('%s = %s' % (arg_list[i], c))\n",
    "        i = i + 1"
   ]
  },
  {
   "cell_type": "code",
   "execution_count": 76,
   "metadata": {},
   "outputs": [],
   "source": [
    "# create surface function model\n",
    "# setup data points for calculating surface model"
   ]
  },
  {
   "cell_type": "code",
   "execution_count": 77,
   "metadata": {},
   "outputs": [],
   "source": [
    "model_x_data = np.linspace(min(x), max(x), len(xdata))\n",
    "model_y_data = np.linspace(min(y), max(y), len(xdata))"
   ]
  },
  {
   "cell_type": "code",
   "execution_count": 78,
   "metadata": {},
   "outputs": [],
   "source": [
    "# create coordinate arrays for vectorized evaluations"
   ]
  },
  {
   "cell_type": "code",
   "execution_count": 79,
   "metadata": {},
   "outputs": [],
   "source": [
    "X, Y = np.meshgrid(model_x_data, model_y_data)"
   ]
  },
  {
   "cell_type": "code",
   "execution_count": 80,
   "metadata": {},
   "outputs": [],
   "source": [
    "# calculate Z coordinate array"
   ]
  },
  {
   "cell_type": "code",
   "execution_count": 81,
   "metadata": {},
   "outputs": [],
   "source": [
    "Z = function(np.array([X, Y]), *parameters)"
   ]
  },
  {
   "cell_type": "code",
   "execution_count": 82,
   "metadata": {},
   "outputs": [],
   "source": [
    "# setup figure object"
   ]
  },
  {
   "cell_type": "code",
   "execution_count": 83,
   "metadata": {},
   "outputs": [
    {
     "data": {
      "text/plain": [
       "<Figure size 432x288 with 0 Axes>"
      ]
     },
     "metadata": {},
     "output_type": "display_data"
    }
   ],
   "source": [
    "fig = plt.figure()"
   ]
  },
  {
   "cell_type": "code",
   "execution_count": 84,
   "metadata": {},
   "outputs": [],
   "source": [
    "# setup 3d object"
   ]
  },
  {
   "cell_type": "code",
   "execution_count": 85,
   "metadata": {},
   "outputs": [],
   "source": [
    "ax = Axes3D(fig)"
   ]
  },
  {
   "cell_type": "code",
   "execution_count": 86,
   "metadata": {},
   "outputs": [],
   "source": [
    "# plot surface"
   ]
  },
  {
   "cell_type": "code",
   "execution_count": 87,
   "metadata": {},
   "outputs": [
    {
     "data": {
      "text/plain": [
       "<mpl_toolkits.mplot3d.art3d.Poly3DCollection at 0x1cf9e4be908>"
      ]
     },
     "execution_count": 87,
     "metadata": {},
     "output_type": "execute_result"
    }
   ],
   "source": [
    "ax.plot_surface(X, Y, Z)"
   ]
  },
  {
   "cell_type": "code",
   "execution_count": 88,
   "metadata": {},
   "outputs": [],
   "source": [
    "# plot input data"
   ]
  },
  {
   "cell_type": "code",
   "execution_count": 89,
   "metadata": {},
   "outputs": [
    {
     "data": {
      "text/plain": [
       "<mpl_toolkits.mplot3d.art3d.Path3DCollection at 0x1cf9d438808>"
      ]
     },
     "execution_count": 89,
     "metadata": {},
     "output_type": "execute_result"
    }
   ],
   "source": [
    "ax.scatter(x, y, z, color='red')"
   ]
  },
  {
   "cell_type": "code",
   "execution_count": 90,
   "metadata": {},
   "outputs": [],
   "source": [
    "# set plot descriptions"
   ]
  },
  {
   "cell_type": "code",
   "execution_count": 91,
   "metadata": {},
   "outputs": [],
   "source": [
    "ax.set_xlabel('CQ/CQdesign [-]')\n",
    "ax.set_ylabel('Air inlet temperature TAir [°K]')\n",
    "ax.set_zlabel('Condenser Pressure Pcond [Bar] ')\n",
    "plt.show()"
   ]
  },
  {
   "cell_type": "code",
   "execution_count": 92,
   "metadata": {},
   "outputs": [
    {
     "name": "stdout",
     "output_type": "stream",
     "text": [
      "Residual, RMS(obs - pred): 0.21813427620546788\n"
     ]
    }
   ],
   "source": [
    "RMS = np.sqrt(np.mean((Z - z) ** 2))\n",
    "print ('Residual, RMS(obs - pred):', RMS)"
   ]
  },
  {
   "cell_type": "code",
   "execution_count": 97,
   "metadata": {},
   "outputs": [
    {
     "data": {
      "image/png": "[encoded data removed]",
      "text/plain": [
       "<Figure size 432x288 with 1 Axes>"
      ]
     },
     "metadata": {
      "needs_background": "light"
     },
     "output_type": "display_data"
    }
   ],
   "source": [
    "x = np.linspace(0.8, 1.2, 100)\n",
    "T = [15+273.15, 17+273.15, 19+273.15, 21+273.15, 23+273.15, 25+273.15, 27+273.15]\n",
    "\n",
    "Coef = [ 24.757048152350681,  0.232735316332081, -32.765732584658728,\n",
    " -0.233624008350205,  0.000468645511078,  0.687095271629395,\n",
    " -0.002998555064234, -0.000389410959757]\n",
    "\n",
    "A1 = Coef[0]\n",
    "A2 = Coef[1]\n",
    "A3 = Coef[2]\n",
    "A4 = Coef[3]\n",
    "B1 = Coef[4]\n",
    "B2 = Coef[5]\n",
    "B3 = Coef[6]\n",
    "B4 = Coef[7]\n",
    "\n",
    "\n",
    "for T in T:\n",
    "\n",
    "    y = A1 + A2*T*x + A3*x + A4*T + B1*(T**2) + B2*(x**2) + B3*T*(x**2) + B4* (T**2)*x\n",
    "\n",
    "    plt.plot(x, np.exp(y), label=str(T)+' [K]')\n",
    "\n",
    "    \n",
    "    \n",
    "plt.xlabel('CQ/CQdesign [-]')\n",
    "plt.ylabel('Condenser Pressure Pcond [Bar]')\n",
    "plt.legend()\n",
    "plt.grid(True)\n",
    "plt.show()"
   ]
  },
  {
   "cell_type": "code",
   "execution_count": null,
   "metadata": {},
   "outputs": [],
   "source": []
  }
 ],
 "metadata": {
  "kernelspec": {
   "display_name": "Python 3",
   "language": "python",
   "name": "python3"
  },
  "language_info": {
   "codemirror_mode": {
    "name": "ipython",
    "version": 3
   },
   "file_extension": ".py",
   "mimetype": "text/x-python",
   "name": "python",
   "nbconvert_exporter": "python",
   "pygments_lexer": "ipython3",
   "version": "3.7.4"
  }
 },
 "nbformat": 4,
 "nbformat_minor": 4
}
